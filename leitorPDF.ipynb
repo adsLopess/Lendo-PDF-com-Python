{
  "nbformat": 4,
  "nbformat_minor": 0,
  "metadata": {
    "colab": {
      "provenance": [],
      "authorship_tag": "ABX9TyOTNQ9gx/RH/tPxkgNoKfOQ",
      "include_colab_link": true
    },
    "kernelspec": {
      "name": "python3",
      "display_name": "Python 3"
    },
    "language_info": {
      "name": "python"
    }
  },
  "cells": [
    {
      "cell_type": "markdown",
      "metadata": {
        "id": "view-in-github",
        "colab_type": "text"
      },
      "source": [
        "<a href=\"https://colab.research.google.com/github/adsLopess/Lendo_PDF_com_Python/blob/main/leitorPDF.ipynb\" target=\"_parent\"><img src=\"https://colab.research.google.com/assets/colab-badge.svg\" alt=\"Open In Colab\"/></a>"
      ]
    },
    {
      "cell_type": "markdown",
      "source": [
        "# **LENDO ARQUIVO PDF** <img src=\"https://upload.wikimedia.org/wikipedia/commons/thumb/8/87/PDF_file_icon.svg/1200px-PDF_file_icon.svg.png\" height=40 width=40>\n",
        "\n",
        "\n",
        "Neste notebook, apresentamos dois scripts Python que podem ser usados para ler texto de PDFs. O primeiro script imprime o texto de todas as páginas do PDF na tela, enquanto o segundo script armazena o texto de todas as páginas do PDF em uma lista.\n",
        "\n",
        "\n",
        "Os scripts são claros e concisos, e são fáceis de entender e usar. Eles são uma boa opção para quem precisa ler/extrair texto de PDFs em Python.\n",
        "\n"
      ],
      "metadata": {
        "id": "pLhNgucSOe0D"
      }
    },
    {
      "cell_type": "markdown",
      "source": [
        "## Leitor de texto PDF"
      ],
      "metadata": {
        "id": "F7IupoqSO-X6"
      }
    },
    {
      "cell_type": "code",
      "source": [
        "!pip install PyPDF2"
      ],
      "metadata": {
        "colab": {
          "base_uri": "https://localhost:8080/"
        },
        "id": "ZsqYVezp4yts",
        "outputId": "06d20ae5-ca4d-42df-df96-c79c37709847"
      },
      "execution_count": null,
      "outputs": [
        {
          "output_type": "stream",
          "name": "stdout",
          "text": [
            "Collecting PyPDF2\n",
            "  Downloading pypdf2-3.0.1-py3-none-any.whl (232 kB)\n",
            "\u001b[2K     \u001b[90m━━━━━━━━━━━━━━━━━━━━━━━━━━━━━━━━━━━━━━━━\u001b[0m \u001b[32m232.6/232.6 kB\u001b[0m \u001b[31m2.1 MB/s\u001b[0m eta \u001b[36m0:00:00\u001b[0m\n",
            "\u001b[?25hInstalling collected packages: PyPDF2\n",
            "Successfully installed PyPDF2-3.0.1\n"
          ]
        }
      ]
    },
    {
      "cell_type": "code",
      "source": [
        "from PyPDF2 import PdfReader\n",
        "\n",
        "reader = PdfReader(\"/content/nome_do_arquivo.pdf\") # substitua pelo caminho de seu arquivo .pdf\n",
        "\n",
        "for page in reader.pages:\n",
        "  text = page.extract_text()\n",
        "  print(text)\n"
      ],
      "metadata": {
        "id": "0Gzj9JWLEvv0"
      },
      "execution_count": null,
      "outputs": []
    },
    {
      "cell_type": "code",
      "source": [],
      "metadata": {
        "id": "d4tYjJwrVf8M"
      },
      "execution_count": null,
      "outputs": []
    },
    {
      "cell_type": "markdown",
      "source": [
        "# Leitura de PDF com armazenamento em lista"
      ],
      "metadata": {
        "id": "v9m8aZBhRJOb"
      }
    },
    {
      "cell_type": "code",
      "source": [
        "from PyPDF2 import PdfReader\n",
        "\n",
        "reader = PdfReader(\"/content/nome_do_arquivo.pdf\")\n",
        "\n",
        "textos = []\n",
        "for page in reader.pages:\n",
        "  texto = page.extract_text()\n",
        "  textos.append(texto)\n",
        "\n",
        "texto = \" \".join(textos)\n",
        "print(texto)"
      ],
      "metadata": {
        "id": "FFsbR2rZC2Za"
      },
      "execution_count": null,
      "outputs": []
    },
    {
      "cell_type": "code",
      "source": [
        "len(textos), type(textos)"
      ],
      "metadata": {
        "colab": {
          "base_uri": "https://localhost:8080/"
        },
        "id": "9ywfNwxaTYyJ",
        "outputId": "2d9ea4d9-c0b4-45b8-b279-282747a00d03"
      },
      "execution_count": null,
      "outputs": [
        {
          "output_type": "execute_result",
          "data": {
            "text/plain": [
              "(16, list)"
            ]
          },
          "metadata": {},
          "execution_count": 19
        }
      ]
    },
    {
      "cell_type": "markdown",
      "source": [
        "## Para escolher o código mais adequado, considere o seu objetivo:\n",
        "\n",
        "* Se você pretende apenas **visualizar/extrair** o texto do PDF na tela, o Código 1 é suficiente.\n",
        "* Se você precisa armazenar o texto para **processamento posterior** (como buscas, análises, etc.), o Código 2 é a escolha mais apropriada."
      ],
      "metadata": {
        "id": "YF1RwI9vQK_C"
      }
    },
    {
      "cell_type": "markdown",
      "source": [
        "**Exemplos de uso:**\n",
        "\n",
        "* Código 1: Visualizar o texto de um PDF no console ou colab.\n",
        "* Código 2: Armazenar o texto de um PDF para realizar buscas por palavras-chave ou análises estatísticas."
      ],
      "metadata": {
        "id": "nsOdF9DHRUKZ"
      }
    }
  ]
}